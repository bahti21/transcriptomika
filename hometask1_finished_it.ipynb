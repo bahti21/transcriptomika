{
  "nbformat": 4,
  "nbformat_minor": 0,
  "metadata": {
    "colab": {
      "provenance": [],
      "authorship_tag": "ABX9TyO2BWBEsN0ydG7iaAtxalGy",
      "include_colab_link": true
    },
    "kernelspec": {
      "name": "python3",
      "display_name": "Python 3"
    },
    "language_info": {
      "name": "python"
    }
  },
  "cells": [
    {
      "cell_type": "markdown",
      "metadata": {
        "id": "view-in-github",
        "colab_type": "text"
      },
      "source": [
        "<a href=\"https://colab.research.google.com/github/bahti21/transcriptomika/blob/main/hometask1_finished_it.ipynb\" target=\"_parent\"><img src=\"https://colab.research.google.com/assets/colab-badge.svg\" alt=\"Open In Colab\"/></a>"
      ]
    },
    {
      "cell_type": "markdown",
      "source": [
        "# **TASK1**\n",
        "Please, provide an example where even EM-based algorithm estimates expression wrong. Describe in which exact cases it might happens.\n",
        "\n",
        "**Моделирование дисперсии**: В RNA-Seq данных наблюдается дисперсия, которая может меняться в зависимости от уровня экспрессии гена. EM может использоваться для оценки параметров модели с учетом этой дисперсии, однако неправильная моделирование дисперсии может привести к неправильным оценкам дифференциальной экспрессии генов.  \n",
        "**Учет сложности экспрессионного ландшафта**: РНК-Seq данные могут иметь сложную структуру экспрессионного ландшафта, такую как наличие альтернативного сплайсинга, геномных переходов и т. д. Это может привести к сложностям в моделировании и интерпретации данных, которые могут не учитываться в модели, построенной с помощью EM.  \n",
        "**Недостаточное количество образцов**: Для корректной работы EM и получения надежных оценок параметров модели требуется достаточное количество данных. В некоторых случаях количество образцов RNA-Seq может быть недостаточным для точного оценивания параметров модели, что может привести к неправильным выводам.\n"
      ],
      "metadata": {
        "id": "y3PJiSm-IgTC"
      }
    },
    {
      "cell_type": "markdown",
      "source": [
        "# **Task 2**\n",
        "Using recount3, find any available RNA-Seq dataset (only one sample will be enough) with already estimated expressions at the level of gene counts. Re-estimate the expressions with kallisto and compare the results (at the gene level)."
      ],
      "metadata": {
        "id": "VVRqVF95JSN8"
      }
    },
    {
      "cell_type": "code",
      "source": [
        "%load_ext rpy2.ipython"
      ],
      "metadata": {
        "id": "1a4CupXVOhRZ"
      },
      "execution_count": 2,
      "outputs": []
    },
    {
      "cell_type": "code",
      "source": [
        "%%R\n",
        "\n",
        "if (!requireNamespace(\"BiocManager\", quietly = TRUE))\n",
        "    install.packages(\"BiocManager\")\n",
        "BiocManager::install(\"recount3\")"
      ],
      "metadata": {
        "collapsed": true,
        "id": "EeyHjhQEOmqI"
      },
      "execution_count": null,
      "outputs": []
    },
    {
      "cell_type": "code",
      "source": [
        "%%R\n",
        "\n",
        "library(\"recount3\")"
      ],
      "metadata": {
        "collapsed": true,
        "id": "FpblR1wrOtx8"
      },
      "execution_count": null,
      "outputs": []
    },
    {
      "cell_type": "code",
      "source": [
        "%%R\n",
        "human_projects <- available_projects()\n",
        "proj_info <- subset(human_projects, project == \"SRP033365\" & project_type == \"data_sources\")\n",
        "rse <- create_rse(proj_info)\n",
        "counts_df <- as.data.frame(assays(rse)$raw_counts)\n",
        "write.csv(counts_df, \"recount3_data.csv\")\n",
        "rse"
      ],
      "metadata": {
        "id": "WUbtzt7POzAH"
      },
      "execution_count": null,
      "outputs": []
    },
    {
      "cell_type": "code",
      "source": [
        "!git clone https://github.com/pachterlab/kallisto.git\n",
        "!apt-get install autoconf\n",
        "!cd kallisto && mkdir build && cd build && cmake .. && make"
      ],
      "metadata": {
        "collapsed": true,
        "id": "ls9pzPVxO4dj"
      },
      "execution_count": null,
      "outputs": []
    },
    {
      "cell_type": "code",
      "source": [
        "!./kallisto/build/src/kallisto index -i reference.idx reference.fasta"
      ],
      "metadata": {
        "id": "cp7FUgMZPBS_"
      },
      "execution_count": null,
      "outputs": []
    },
    {
      "cell_type": "code",
      "source": [
        "!./kallisto/build/src/kallisto quant -i reference.idx -o results --single -l 50 -s 1 reads.fastq"
      ],
      "metadata": {
        "id": "ySwK8cFzPC44"
      },
      "execution_count": null,
      "outputs": []
    },
    {
      "cell_type": "code",
      "source": [
        "import pandas as pd\n",
        "\n",
        "kallisto_results = pd.read_csv(\"results/abundance.tsv\", sep=\"\\t\")\n",
        "kallisto_abundances = kallisto_results.tpm / kallisto_results.tpm.sum()\n",
        "pd.DataFrame({\n",
        "    \"Difference true — kallisto (%)\": list((abundance_ground_truth - kallisto_abundances) * 100),\n",
        "    \"Difference true — our (%)\": list((abundance_ground_truth - abundance) * 100)\n",
        "}, index=transcript_sequences.keys())"
      ],
      "metadata": {
        "id": "wx09aH97Ph7H"
      },
      "execution_count": null,
      "outputs": []
    }
  ]
}