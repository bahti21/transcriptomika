{
  "nbformat": 4,
  "nbformat_minor": 0,
  "metadata": {
    "colab": {
      "provenance": [],
      "authorship_tag": "ABX9TyOC+dGoBbENAfkW30VWhkF/",
      "include_colab_link": true
    },
    "kernelspec": {
      "name": "python3",
      "display_name": "Python 3"
    },
    "language_info": {
      "name": "python"
    }
  },
  "cells": [
    {
      "cell_type": "markdown",
      "metadata": {
        "id": "view-in-github",
        "colab_type": "text"
      },
      "source": [
        "<a href=\"https://colab.research.google.com/github/bahti21/transcriptomika/blob/main/hometask2_(new).ipynb\" target=\"_parent\"><img src=\"https://colab.research.google.com/assets/colab-badge.svg\" alt=\"Open In Colab\"/></a>"
      ]
    },
    {
      "cell_type": "markdown",
      "source": [
        "Второе дз: до этого я его не делал когда скидывал дз на проверку."
      ],
      "metadata": {
        "id": "-R4bbjR9ExPg"
      }
    },
    {
      "cell_type": "markdown",
      "source": [
        "# **ДЗ 2:**  \n",
        "At home, perform the same analysis with the standard DESeq2 pipeline. DESeq2 documentation is very detailed: https://www.bioconductor.org/packages/release/bioc/vignettes/DESeq2/inst/doc/DESeq2.html. For each step, comment, how it relates to what we did in edgeR.\n",
        "\n",
        "You can then compare lists of differentially expressed genes between edgeR and DESeq2 using Venn diagrams or plot the p-values of different genes in edgeR and DESeq2 against each other.\n",
        "\n",
        "\n"
      ],
      "metadata": {
        "id": "h7xGUxE7FEZA"
      }
    },
    {
      "cell_type": "markdown",
      "source": [
        "План:\n",
        "1. Составляем матрицу каунтов.\n",
        "2. PCA разложение.\n",
        "3. Составлю табличку meta_data.\n",
        "4. Создам датасет DESeq на основе матрицы каунтов и метаинформации.\n",
        "5. диаграмма Эйлера-Венна."
      ],
      "metadata": {
        "id": "zXlJW9r0FK0w"
      }
    },
    {
      "cell_type": "code",
      "source": [
        "!wget https://ftp.ncbi.nlm.nih.gov/geo/series/GSE110nnn/GSE110021/suppl/GSE110021%5Fcounts.Aug2015.txt.gz\n",
        "!gunzip GSE110021_counts.Aug2015.txt.gz"
      ],
      "metadata": {
        "collapsed": true,
        "colab": {
          "base_uri": "https://localhost:8080/"
        },
        "id": "8s_U1ujWFzvM",
        "outputId": "868a4388-3986-43bd-b0b2-2872d2ec1dd2"
      },
      "execution_count": 2,
      "outputs": [
        {
          "output_type": "stream",
          "name": "stdout",
          "text": [
            "--2024-07-14 11:53:31--  https://ftp.ncbi.nlm.nih.gov/geo/series/GSE110nnn/GSE110021/suppl/GSE110021%5Fcounts.Aug2015.txt.gz\n",
            "Resolving ftp.ncbi.nlm.nih.gov (ftp.ncbi.nlm.nih.gov)... 130.14.250.13, 130.14.250.10, 130.14.250.11, ...\n",
            "Connecting to ftp.ncbi.nlm.nih.gov (ftp.ncbi.nlm.nih.gov)|130.14.250.13|:443... connected.\n",
            "HTTP request sent, awaiting response... 200 OK\n",
            "Length: 1067815 (1.0M) [application/x-gzip]\n",
            "Saving to: ‘GSE110021_counts.Aug2015.txt.gz’\n",
            "\n",
            "GSE110021_counts.Au 100%[===================>]   1.02M  1.62MB/s    in 0.6s    \n",
            "\n",
            "2024-07-14 11:53:32 (1.62 MB/s) - ‘GSE110021_counts.Aug2015.txt.gz’ saved [1067815/1067815]\n",
            "\n"
          ]
        }
      ]
    },
    {
      "cell_type": "code",
      "source": [
        "!echo \"deb http://security.ubuntu.com/ubuntu focal-security main\" | sudo tee /etc/apt/sources.list.d/focal-security.list\n",
        "!apt-get update\n",
        "!apt-get install libgmp3-dev libcairo2-dev libharfbuzz-dev libfribidi-dev libssl1.1\n",
        "\n",
        "!pip install --upgrade gdown\n",
        "!gdown 1XAbJa_suP-WFTKK628oM9EWsV7k-6fI9\n",
        "!gdown 1Bt4HDrZqFId_7Ph99pSvhfFHxyrV-kaL\n",
        "!tar xf library.tar.gz"
      ],
      "metadata": {
        "colab": {
          "base_uri": "https://localhost:8080/"
        },
        "collapsed": true,
        "id": "uHn5yaMSF2Si",
        "outputId": "725376a3-81a9-4b16-b0ac-00586fd87988"
      },
      "execution_count": 3,
      "outputs": [
        {
          "output_type": "stream",
          "name": "stdout",
          "text": [
            "deb http://security.ubuntu.com/ubuntu focal-security main\n",
            "Hit:1 http://archive.ubuntu.com/ubuntu jammy InRelease\n",
            "Get:2 http://archive.ubuntu.com/ubuntu jammy-updates InRelease [128 kB]\n",
            "Get:3 https://cloud.r-project.org/bin/linux/ubuntu jammy-cran40/ InRelease [3,626 B]\n",
            "Hit:4 http://archive.ubuntu.com/ubuntu jammy-backports InRelease\n",
            "Hit:5 https://developer.download.nvidia.com/compute/cuda/repos/ubuntu2204/x86_64  InRelease\n",
            "Hit:6 https://ppa.launchpadcontent.net/deadsnakes/ppa/ubuntu jammy InRelease\n",
            "Get:7 http://security.ubuntu.com/ubuntu jammy-security InRelease [129 kB]\n",
            "Get:8 https://ppa.launchpadcontent.net/graphics-drivers/ppa/ubuntu jammy InRelease [24.3 kB]\n",
            "Hit:9 https://ppa.launchpadcontent.net/ubuntugis/ppa/ubuntu jammy InRelease\n",
            "Get:10 http://security.ubuntu.com/ubuntu focal-security InRelease [128 kB]\n",
            "Get:11 http://archive.ubuntu.com/ubuntu jammy-updates/main amd64 Packages [2,263 kB]\n",
            "Ign:12 https://r2u.stat.illinois.edu/ubuntu jammy InRelease\n",
            "Get:13 http://archive.ubuntu.com/ubuntu jammy-updates/universe amd64 Packages [1,410 kB]\n",
            "Get:14 https://r2u.stat.illinois.edu/ubuntu jammy Release [5,713 B]\n",
            "Get:15 https://r2u.stat.illinois.edu/ubuntu jammy Release.gpg [793 B]\n",
            "Get:16 https://ppa.launchpadcontent.net/graphics-drivers/ppa/ubuntu jammy/main amd64 Packages [48.1 kB]\n",
            "Get:17 http://security.ubuntu.com/ubuntu jammy-security/universe amd64 Packages [1,127 kB]\n",
            "Get:18 http://security.ubuntu.com/ubuntu jammy-security/main amd64 Packages [1,998 kB]\n",
            "Get:19 https://r2u.stat.illinois.edu/ubuntu jammy/main all Packages [8,181 kB]\n",
            "Get:20 http://security.ubuntu.com/ubuntu focal-security/main amd64 Packages [3,776 kB]\n",
            "Get:21 https://r2u.stat.illinois.edu/ubuntu jammy/main amd64 Packages [2,544 kB]\n",
            "Fetched 21.8 MB in 4s (5,921 kB/s)\n",
            "Reading package lists... Done\n",
            "W: Skipping acquire of configured file 'main/source/Sources' as repository 'https://r2u.stat.illinois.edu/ubuntu jammy InRelease' does not seem to provide it (sources.list entry misspelt?)\n",
            "Reading package lists... Done\n",
            "Building dependency tree... Done\n",
            "Reading state information... Done\n",
            "The following additional packages will be installed:\n",
            "  gir1.2-harfbuzz-0.0 libblkid-dev libblkid1 libcairo-script-interpreter2 libffi-dev libglib2.0-dev\n",
            "  libglib2.0-dev-bin libgmp-dev libgmpxx4ldbl libgraphite2-dev libharfbuzz-gobject0\n",
            "  libharfbuzz-icu0 libice-dev liblzo2-2 libmount-dev libmount1 libpixman-1-dev libselinux1-dev\n",
            "  libsepol-dev libsm-dev libxcb-render0-dev libxcb-shm0-dev\n",
            "Suggested packages:\n",
            "  libcairo2-doc libgirepository1.0-dev libglib2.0-doc libgdk-pixbuf2.0-bin | libgdk-pixbuf2.0-dev\n",
            "  libxml2-utils gmp-doc libgmp10-doc libmpfr-dev libgraphite2-utils libice-doc cryptsetup-bin\n",
            "  libsm-doc\n",
            "The following NEW packages will be installed:\n",
            "  gir1.2-harfbuzz-0.0 libblkid-dev libcairo-script-interpreter2 libcairo2-dev libffi-dev\n",
            "  libfribidi-dev libglib2.0-dev libglib2.0-dev-bin libgmp-dev libgmp3-dev libgmpxx4ldbl\n",
            "  libgraphite2-dev libharfbuzz-dev libharfbuzz-gobject0 libharfbuzz-icu0 libice-dev liblzo2-2\n",
            "  libmount-dev libpixman-1-dev libselinux1-dev libsepol-dev libsm-dev libssl1.1 libxcb-render0-dev\n",
            "  libxcb-shm0-dev\n",
            "The following packages will be upgraded:\n",
            "  libblkid1 libmount1\n",
            "2 upgraded, 25 newly installed, 0 to remove and 43 not upgraded.\n",
            "Need to get 6,435 kB of archives.\n",
            "After this operation, 29.4 MB of additional disk space will be used.\n",
            "Get:1 http://archive.ubuntu.com/ubuntu jammy-updates/main amd64 libblkid1 amd64 2.37.2-4ubuntu3.4 [103 kB]\n",
            "Get:2 http://archive.ubuntu.com/ubuntu jammy-updates/main amd64 libmount1 amd64 2.37.2-4ubuntu3.4 [122 kB]\n",
            "Get:3 http://archive.ubuntu.com/ubuntu jammy-updates/main amd64 gir1.2-harfbuzz-0.0 amd64 2.7.4-1ubuntu3.1 [31.6 kB]\n",
            "Get:4 http://archive.ubuntu.com/ubuntu jammy/main amd64 liblzo2-2 amd64 2.10-2build3 [53.7 kB]\n",
            "Get:5 http://archive.ubuntu.com/ubuntu jammy/main amd64 libcairo-script-interpreter2 amd64 1.16.0-5ubuntu2 [62.0 kB]\n",
            "Get:6 http://archive.ubuntu.com/ubuntu jammy/main amd64 libice-dev amd64 2:1.0.10-1build2 [51.4 kB]\n",
            "Get:7 http://archive.ubuntu.com/ubuntu jammy/main amd64 libsm-dev amd64 2:1.2.3-1build2 [18.1 kB]\n",
            "Get:8 http://archive.ubuntu.com/ubuntu jammy-updates/main amd64 libpixman-1-dev amd64 0.40.0-1ubuntu0.22.04.1 [280 kB]\n",
            "Get:9 http://archive.ubuntu.com/ubuntu jammy/main amd64 libxcb-render0-dev amd64 1.14-3ubuntu3 [19.6 kB]\n",
            "Get:10 http://archive.ubuntu.com/ubuntu jammy/main amd64 libxcb-shm0-dev amd64 1.14-3ubuntu3 [6,848 B]\n",
            "Get:11 http://archive.ubuntu.com/ubuntu jammy/main amd64 libffi-dev amd64 3.4.2-4 [63.7 kB]\n",
            "Get:12 http://archive.ubuntu.com/ubuntu jammy-updates/main amd64 libglib2.0-dev-bin amd64 2.72.4-0ubuntu2.3 [117 kB]\n",
            "Get:13 http://archive.ubuntu.com/ubuntu jammy-updates/main amd64 libblkid-dev amd64 2.37.2-4ubuntu3.4 [185 kB]\n",
            "Get:14 http://archive.ubuntu.com/ubuntu jammy/main amd64 libsepol-dev amd64 3.3-1build1 [378 kB]\n",
            "Get:15 http://archive.ubuntu.com/ubuntu jammy/main amd64 libselinux1-dev amd64 3.3-1build2 [158 kB]\n",
            "Get:16 http://archive.ubuntu.com/ubuntu jammy-updates/main amd64 libmount-dev amd64 2.37.2-4ubuntu3.4 [14.5 kB]\n",
            "Get:17 http://archive.ubuntu.com/ubuntu jammy-updates/main amd64 libglib2.0-dev amd64 2.72.4-0ubuntu2.3 [1,743 kB]\n",
            "Get:18 http://archive.ubuntu.com/ubuntu jammy/main amd64 libcairo2-dev amd64 1.16.0-5ubuntu2 [692 kB]\n",
            "Get:19 http://archive.ubuntu.com/ubuntu jammy-updates/main amd64 libfribidi-dev amd64 1.0.8-2ubuntu3.1 [64.8 kB]\n",
            "Get:20 http://archive.ubuntu.com/ubuntu jammy/main amd64 libgmpxx4ldbl amd64 2:6.2.1+dfsg-3ubuntu1 [9,580 B]\n",
            "Get:21 http://archive.ubuntu.com/ubuntu jammy/main amd64 libgmp-dev amd64 2:6.2.1+dfsg-3ubuntu1 [337 kB]\n",
            "Get:22 http://archive.ubuntu.com/ubuntu jammy/main amd64 libgmp3-dev amd64 2:6.2.1+dfsg-3ubuntu1 [1,818 B]\n",
            "Get:23 http://archive.ubuntu.com/ubuntu jammy/main amd64 libgraphite2-dev amd64 1.3.14-1build2 [14.7 kB]\n",
            "Get:24 http://archive.ubuntu.com/ubuntu jammy-updates/main amd64 libharfbuzz-icu0 amd64 2.7.4-1ubuntu3.1 [5,886 B]\n",
            "Get:25 http://security.ubuntu.com/ubuntu focal-security/main amd64 libssl1.1 amd64 1.1.1f-1ubuntu2.22 [1,323 kB]\n",
            "Get:26 http://archive.ubuntu.com/ubuntu jammy-updates/main amd64 libharfbuzz-gobject0 amd64 2.7.4-1ubuntu3.1 [26.0 kB]\n",
            "Get:27 http://archive.ubuntu.com/ubuntu jammy-updates/main amd64 libharfbuzz-dev amd64 2.7.4-1ubuntu3.1 [553 kB]\n",
            "Fetched 6,435 kB in 1s (8,571 kB/s)\n",
            "Preconfiguring packages ...\n",
            "(Reading database ... 123576 files and directories currently installed.)\n",
            "Preparing to unpack .../libblkid1_2.37.2-4ubuntu3.4_amd64.deb ...\n",
            "Unpacking libblkid1:amd64 (2.37.2-4ubuntu3.4) over (2.37.2-4ubuntu3) ...\n",
            "Setting up libblkid1:amd64 (2.37.2-4ubuntu3.4) ...\n",
            "(Reading database ... 123576 files and directories currently installed.)\n",
            "Preparing to unpack .../libmount1_2.37.2-4ubuntu3.4_amd64.deb ...\n",
            "Unpacking libmount1:amd64 (2.37.2-4ubuntu3.4) over (2.37.2-4ubuntu3) ...\n",
            "Setting up libmount1:amd64 (2.37.2-4ubuntu3.4) ...\n",
            "Selecting previously unselected package libssl1.1:amd64.\n",
            "(Reading database ... 123576 files and directories currently installed.)\n",
            "Preparing to unpack .../00-libssl1.1_1.1.1f-1ubuntu2.22_amd64.deb ...\n",
            "Unpacking libssl1.1:amd64 (1.1.1f-1ubuntu2.22) ...\n",
            "Selecting previously unselected package gir1.2-harfbuzz-0.0:amd64.\n",
            "Preparing to unpack .../01-gir1.2-harfbuzz-0.0_2.7.4-1ubuntu3.1_amd64.deb ...\n",
            "Unpacking gir1.2-harfbuzz-0.0:amd64 (2.7.4-1ubuntu3.1) ...\n",
            "Selecting previously unselected package liblzo2-2:amd64.\n",
            "Preparing to unpack .../02-liblzo2-2_2.10-2build3_amd64.deb ...\n",
            "Unpacking liblzo2-2:amd64 (2.10-2build3) ...\n",
            "Selecting previously unselected package libcairo-script-interpreter2:amd64.\n",
            "Preparing to unpack .../03-libcairo-script-interpreter2_1.16.0-5ubuntu2_amd64.deb ...\n",
            "Unpacking libcairo-script-interpreter2:amd64 (1.16.0-5ubuntu2) ...\n",
            "Selecting previously unselected package libice-dev:amd64.\n",
            "Preparing to unpack .../04-libice-dev_2%3a1.0.10-1build2_amd64.deb ...\n",
            "Unpacking libice-dev:amd64 (2:1.0.10-1build2) ...\n",
            "Selecting previously unselected package libsm-dev:amd64.\n",
            "Preparing to unpack .../05-libsm-dev_2%3a1.2.3-1build2_amd64.deb ...\n",
            "Unpacking libsm-dev:amd64 (2:1.2.3-1build2) ...\n",
            "Selecting previously unselected package libpixman-1-dev:amd64.\n",
            "Preparing to unpack .../06-libpixman-1-dev_0.40.0-1ubuntu0.22.04.1_amd64.deb ...\n",
            "Unpacking libpixman-1-dev:amd64 (0.40.0-1ubuntu0.22.04.1) ...\n",
            "Selecting previously unselected package libxcb-render0-dev:amd64.\n",
            "Preparing to unpack .../07-libxcb-render0-dev_1.14-3ubuntu3_amd64.deb ...\n",
            "Unpacking libxcb-render0-dev:amd64 (1.14-3ubuntu3) ...\n",
            "Selecting previously unselected package libxcb-shm0-dev:amd64.\n",
            "Preparing to unpack .../08-libxcb-shm0-dev_1.14-3ubuntu3_amd64.deb ...\n",
            "Unpacking libxcb-shm0-dev:amd64 (1.14-3ubuntu3) ...\n",
            "Selecting previously unselected package libffi-dev:amd64.\n",
            "Preparing to unpack .../09-libffi-dev_3.4.2-4_amd64.deb ...\n",
            "Unpacking libffi-dev:amd64 (3.4.2-4) ...\n",
            "Selecting previously unselected package libglib2.0-dev-bin.\n",
            "Preparing to unpack .../10-libglib2.0-dev-bin_2.72.4-0ubuntu2.3_amd64.deb ...\n",
            "Unpacking libglib2.0-dev-bin (2.72.4-0ubuntu2.3) ...\n",
            "Selecting previously unselected package libblkid-dev:amd64.\n",
            "Preparing to unpack .../11-libblkid-dev_2.37.2-4ubuntu3.4_amd64.deb ...\n",
            "Unpacking libblkid-dev:amd64 (2.37.2-4ubuntu3.4) ...\n",
            "Selecting previously unselected package libsepol-dev:amd64.\n",
            "Preparing to unpack .../12-libsepol-dev_3.3-1build1_amd64.deb ...\n",
            "Unpacking libsepol-dev:amd64 (3.3-1build1) ...\n",
            "Selecting previously unselected package libselinux1-dev:amd64.\n",
            "Preparing to unpack .../13-libselinux1-dev_3.3-1build2_amd64.deb ...\n",
            "Unpacking libselinux1-dev:amd64 (3.3-1build2) ...\n",
            "Selecting previously unselected package libmount-dev:amd64.\n",
            "Preparing to unpack .../14-libmount-dev_2.37.2-4ubuntu3.4_amd64.deb ...\n",
            "Unpacking libmount-dev:amd64 (2.37.2-4ubuntu3.4) ...\n",
            "Selecting previously unselected package libglib2.0-dev:amd64.\n",
            "Preparing to unpack .../15-libglib2.0-dev_2.72.4-0ubuntu2.3_amd64.deb ...\n",
            "Unpacking libglib2.0-dev:amd64 (2.72.4-0ubuntu2.3) ...\n",
            "Selecting previously unselected package libcairo2-dev:amd64.\n",
            "Preparing to unpack .../16-libcairo2-dev_1.16.0-5ubuntu2_amd64.deb ...\n",
            "Unpacking libcairo2-dev:amd64 (1.16.0-5ubuntu2) ...\n",
            "Selecting previously unselected package libfribidi-dev:amd64.\n",
            "Preparing to unpack .../17-libfribidi-dev_1.0.8-2ubuntu3.1_amd64.deb ...\n",
            "Unpacking libfribidi-dev:amd64 (1.0.8-2ubuntu3.1) ...\n",
            "Selecting previously unselected package libgmpxx4ldbl:amd64.\n",
            "Preparing to unpack .../18-libgmpxx4ldbl_2%3a6.2.1+dfsg-3ubuntu1_amd64.deb ...\n",
            "Unpacking libgmpxx4ldbl:amd64 (2:6.2.1+dfsg-3ubuntu1) ...\n",
            "Selecting previously unselected package libgmp-dev:amd64.\n",
            "Preparing to unpack .../19-libgmp-dev_2%3a6.2.1+dfsg-3ubuntu1_amd64.deb ...\n",
            "Unpacking libgmp-dev:amd64 (2:6.2.1+dfsg-3ubuntu1) ...\n",
            "Selecting previously unselected package libgmp3-dev:amd64.\n",
            "Preparing to unpack .../20-libgmp3-dev_2%3a6.2.1+dfsg-3ubuntu1_amd64.deb ...\n",
            "Unpacking libgmp3-dev:amd64 (2:6.2.1+dfsg-3ubuntu1) ...\n",
            "Selecting previously unselected package libgraphite2-dev:amd64.\n",
            "Preparing to unpack .../21-libgraphite2-dev_1.3.14-1build2_amd64.deb ...\n",
            "Unpacking libgraphite2-dev:amd64 (1.3.14-1build2) ...\n",
            "Selecting previously unselected package libharfbuzz-icu0:amd64.\n",
            "Preparing to unpack .../22-libharfbuzz-icu0_2.7.4-1ubuntu3.1_amd64.deb ...\n",
            "Unpacking libharfbuzz-icu0:amd64 (2.7.4-1ubuntu3.1) ...\n",
            "Selecting previously unselected package libharfbuzz-gobject0:amd64.\n",
            "Preparing to unpack .../23-libharfbuzz-gobject0_2.7.4-1ubuntu3.1_amd64.deb ...\n",
            "Unpacking libharfbuzz-gobject0:amd64 (2.7.4-1ubuntu3.1) ...\n",
            "Selecting previously unselected package libharfbuzz-dev:amd64.\n",
            "Preparing to unpack .../24-libharfbuzz-dev_2.7.4-1ubuntu3.1_amd64.deb ...\n",
            "Unpacking libharfbuzz-dev:amd64 (2.7.4-1ubuntu3.1) ...\n",
            "Setting up libglib2.0-dev-bin (2.72.4-0ubuntu2.3) ...\n",
            "Setting up libblkid-dev:amd64 (2.37.2-4ubuntu3.4) ...\n",
            "Setting up libharfbuzz-icu0:amd64 (2.7.4-1ubuntu3.1) ...\n",
            "Setting up libpixman-1-dev:amd64 (0.40.0-1ubuntu0.22.04.1) ...\n",
            "Setting up libice-dev:amd64 (2:1.0.10-1build2) ...\n",
            "Setting up libsm-dev:amd64 (2:1.2.3-1build2) ...\n",
            "Setting up libssl1.1:amd64 (1.1.1f-1ubuntu2.22) ...\n",
            "Setting up libfribidi-dev:amd64 (1.0.8-2ubuntu3.1) ...\n",
            "Setting up liblzo2-2:amd64 (2.10-2build3) ...\n",
            "Setting up libharfbuzz-gobject0:amd64 (2.7.4-1ubuntu3.1) ...\n",
            "Setting up libffi-dev:amd64 (3.4.2-4) ...\n",
            "Setting up gir1.2-harfbuzz-0.0:amd64 (2.7.4-1ubuntu3.1) ...\n",
            "Setting up libxcb-shm0-dev:amd64 (1.14-3ubuntu3) ...\n",
            "Setting up libgraphite2-dev:amd64 (1.3.14-1build2) ...\n",
            "Setting up libgmpxx4ldbl:amd64 (2:6.2.1+dfsg-3ubuntu1) ...\n",
            "Setting up libsepol-dev:amd64 (3.3-1build1) ...\n",
            "Setting up libxcb-render0-dev:amd64 (1.14-3ubuntu3) ...\n",
            "Setting up libcairo-script-interpreter2:amd64 (1.16.0-5ubuntu2) ...\n",
            "Setting up libgmp-dev:amd64 (2:6.2.1+dfsg-3ubuntu1) ...\n",
            "Setting up libselinux1-dev:amd64 (3.3-1build2) ...\n",
            "Setting up libgmp3-dev:amd64 (2:6.2.1+dfsg-3ubuntu1) ...\n",
            "Setting up libmount-dev:amd64 (2.37.2-4ubuntu3.4) ...\n",
            "Setting up libglib2.0-dev:amd64 (2.72.4-0ubuntu2.3) ...\n",
            "Processing triggers for libglib2.0-0:amd64 (2.72.4-0ubuntu2.3) ...\n",
            "Processing triggers for libc-bin (2.35-0ubuntu3.4) ...\n",
            "/sbin/ldconfig.real: /usr/local/lib/libtbbmalloc_proxy.so.2 is not a symbolic link\n",
            "\n",
            "/sbin/ldconfig.real: /usr/local/lib/libtbbbind_2_5.so.3 is not a symbolic link\n",
            "\n",
            "/sbin/ldconfig.real: /usr/local/lib/libtbb.so.12 is not a symbolic link\n",
            "\n",
            "/sbin/ldconfig.real: /usr/local/lib/libtbbbind.so.3 is not a symbolic link\n",
            "\n",
            "/sbin/ldconfig.real: /usr/local/lib/libtbbbind_2_0.so.3 is not a symbolic link\n",
            "\n",
            "/sbin/ldconfig.real: /usr/local/lib/libtbbmalloc.so.2 is not a symbolic link\n",
            "\n",
            "Processing triggers for man-db (2.10.2-1) ...\n",
            "Setting up libcairo2-dev:amd64 (1.16.0-5ubuntu2) ...\n",
            "Setting up libharfbuzz-dev:amd64 (2.7.4-1ubuntu3.1) ...\n",
            "Requirement already satisfied: gdown in /usr/local/lib/python3.10/dist-packages (5.1.0)\n",
            "Collecting gdown\n",
            "  Downloading gdown-5.2.0-py3-none-any.whl (18 kB)\n",
            "Requirement already satisfied: beautifulsoup4 in /usr/local/lib/python3.10/dist-packages (from gdown) (4.12.3)\n",
            "Requirement already satisfied: filelock in /usr/local/lib/python3.10/dist-packages (from gdown) (3.15.4)\n",
            "Requirement already satisfied: requests[socks] in /usr/local/lib/python3.10/dist-packages (from gdown) (2.31.0)\n",
            "Requirement already satisfied: tqdm in /usr/local/lib/python3.10/dist-packages (from gdown) (4.66.4)\n",
            "Requirement already satisfied: soupsieve>1.2 in /usr/local/lib/python3.10/dist-packages (from beautifulsoup4->gdown) (2.5)\n",
            "Requirement already satisfied: charset-normalizer<4,>=2 in /usr/local/lib/python3.10/dist-packages (from requests[socks]->gdown) (3.3.2)\n",
            "Requirement already satisfied: idna<4,>=2.5 in /usr/local/lib/python3.10/dist-packages (from requests[socks]->gdown) (3.7)\n",
            "Requirement already satisfied: urllib3<3,>=1.21.1 in /usr/local/lib/python3.10/dist-packages (from requests[socks]->gdown) (2.0.7)\n",
            "Requirement already satisfied: certifi>=2017.4.17 in /usr/local/lib/python3.10/dist-packages (from requests[socks]->gdown) (2024.7.4)\n",
            "Requirement already satisfied: PySocks!=1.5.7,>=1.5.6 in /usr/local/lib/python3.10/dist-packages (from requests[socks]->gdown) (1.7.1)\n",
            "Installing collected packages: gdown\n",
            "  Attempting uninstall: gdown\n",
            "    Found existing installation: gdown 5.1.0\n",
            "    Uninstalling gdown-5.1.0:\n",
            "      Successfully uninstalled gdown-5.1.0\n",
            "Successfully installed gdown-5.2.0\n",
            "Downloading...\n",
            "From (original): https://drive.google.com/uc?id=1XAbJa_suP-WFTKK628oM9EWsV7k-6fI9\n",
            "From (redirected): https://drive.google.com/uc?id=1XAbJa_suP-WFTKK628oM9EWsV7k-6fI9&confirm=t&uuid=c2694a53-a8bd-4708-8def-f39bca28222e\n",
            "To: /content/library.tar.gz\n",
            "100% 2.95G/2.95G [00:36<00:00, 81.2MB/s]\n",
            "Downloading...\n",
            "From: https://drive.google.com/uc?id=1Bt4HDrZqFId_7Ph99pSvhfFHxyrV-kaL\n",
            "To: /content/biomart_hg19_ensembl75.tsv\n",
            "100% 22.1M/22.1M [00:00<00:00, 65.1MB/s]\n",
            "tar: Removing leading `/' from member names\n"
          ]
        }
      ]
    },
    {
      "cell_type": "code",
      "source": [
        "%load_ext rpy2.ipython\n",
        "%R .libPaths(\"usr/local/lib/R/site-library/\")\n",
        "!Rscript -e 'install.packages(\"statmod\")'\n",
        "!Rscript -e 'install.packages(\"VennDiagram\")'"
      ],
      "metadata": {
        "colab": {
          "base_uri": "https://localhost:8080/"
        },
        "collapsed": true,
        "id": "lspjrsv3GUfZ",
        "outputId": "cbf8f3d9-9af3-49ee-cc50-5d4298a7b714"
      },
      "execution_count": 4,
      "outputs": [
        {
          "output_type": "stream",
          "name": "stdout",
          "text": [
            "Installing package into ‘/usr/local/lib/R/site-library’\n",
            "(as ‘lib’ is unspecified)\n",
            "trying URL 'https://cran.rstudio.com/src/contrib/statmod_1.5.0.tar.gz'\n",
            "Content type 'application/x-gzip' length 92486 bytes (90 KB)\n",
            "==================================================\n",
            "downloaded 90 KB\n",
            "\n",
            "* installing *source* package ‘statmod’ ...\n",
            "** package ‘statmod’ successfully unpacked and MD5 sums checked\n",
            "** using staged installation\n",
            "** libs\n",
            "using C compiler: ‘gcc (Ubuntu 11.4.0-1ubuntu1~22.04) 11.4.0’\n",
            "using Fortran compiler: ‘GNU Fortran (Ubuntu 11.4.0-1ubuntu1~22.04) 11.4.0’\n",
            "gcc -I\"/usr/share/R/include\" -DNDEBUG       -fpic  -g -O2 -ffile-prefix-map=/build/r-base-avGvPq/r-base-4.4.1=. -fstack-protector-strong -Wformat -Werror=format-security -Wdate-time -D_FORTIFY_SOURCE=2  -c expectedDeviance.c -o expectedDeviance.o\n",
            "gfortran  -fpic  -g -O2 -ffile-prefix-map=/build/r-base-avGvPq/r-base-4.4.1=. -fstack-protector-strong  -c gaussq2.f -o gaussq2.o\n",
            "gcc -I\"/usr/share/R/include\" -DNDEBUG       -fpic  -g -O2 -ffile-prefix-map=/build/r-base-avGvPq/r-base-4.4.1=. -fstack-protector-strong -Wformat -Werror=format-security -Wdate-time -D_FORTIFY_SOURCE=2  -c init.c -o init.o\n",
            "gcc -shared -L/usr/lib/R/lib -Wl,-Bsymbolic-functions -flto=auto -ffat-lto-objects -flto=auto -Wl,-z,relro -o statmod.so expectedDeviance.o gaussq2.o init.o -lgfortran -lm -lquadmath -L/usr/lib/R/lib -lR\n",
            "installing to /usr/local/lib/R/site-library/00LOCK-statmod/00new/statmod/libs\n",
            "** R\n",
            "** data\n",
            "** inst\n",
            "** byte-compile and prepare package for lazy loading\n",
            "** help\n",
            "*** installing help indices\n",
            "** building package indices\n",
            "** testing if installed package can be loaded from temporary location\n",
            "** checking absolute paths in shared objects and dynamic libraries\n",
            "** testing if installed package can be loaded from final location\n",
            "** testing if installed package keeps a record of temporary installation path\n",
            "* DONE (statmod)\n",
            "\n",
            "The downloaded source packages are in\n",
            "\t‘/tmp/RtmpzCwV4K/downloaded_packages’\n",
            "Installing package into ‘/usr/local/lib/R/site-library’\n",
            "(as ‘lib’ is unspecified)\n",
            "also installing the dependencies ‘formatR’, ‘lambda.r’, ‘futile.options’, ‘futile.logger’\n",
            "\n",
            "trying URL 'https://cran.rstudio.com/src/contrib/formatR_1.14.tar.gz'\n",
            "Content type 'application/x-gzip' length 96077 bytes (93 KB)\n",
            "==================================================\n",
            "downloaded 93 KB\n",
            "\n",
            "trying URL 'https://cran.rstudio.com/src/contrib/lambda.r_1.2.4.tar.gz'\n",
            "Content type 'application/x-gzip' length 25666 bytes (25 KB)\n",
            "==================================================\n",
            "downloaded 25 KB\n",
            "\n",
            "trying URL 'https://cran.rstudio.com/src/contrib/futile.options_1.0.1.tar.gz'\n",
            "Content type 'application/x-gzip' length 3919 bytes\n",
            "==================================================\n",
            "downloaded 3919 bytes\n",
            "\n",
            "trying URL 'https://cran.rstudio.com/src/contrib/futile.logger_1.4.3.tar.gz'\n",
            "Content type 'application/x-gzip' length 17456 bytes (17 KB)\n",
            "==================================================\n",
            "downloaded 17 KB\n",
            "\n",
            "trying URL 'https://cran.rstudio.com/src/contrib/VennDiagram_1.7.3.tar.gz'\n",
            "Content type 'application/x-gzip' length 78508 bytes (76 KB)\n",
            "==================================================\n",
            "downloaded 76 KB\n",
            "\n",
            "* installing *source* package ‘formatR’ ...\n",
            "** package ‘formatR’ successfully unpacked and MD5 sums checked\n",
            "** using staged installation\n",
            "** R\n",
            "** inst\n",
            "** byte-compile and prepare package for lazy loading\n",
            "** help\n",
            "*** installing help indices\n",
            "** building package indices\n",
            "** installing vignettes\n",
            "** testing if installed package can be loaded from temporary location\n",
            "** testing if installed package can be loaded from final location\n",
            "** testing if installed package keeps a record of temporary installation path\n",
            "* DONE (formatR)\n",
            "* installing *source* package ‘futile.options’ ...\n",
            "** package ‘futile.options’ successfully unpacked and MD5 sums checked\n",
            "** using staged installation\n",
            "** R\n",
            "** byte-compile and prepare package for lazy loading\n",
            "** help\n",
            "*** installing help indices\n",
            "** building package indices\n",
            "** testing if installed package can be loaded from temporary location\n",
            "** testing if installed package can be loaded from final location\n",
            "** testing if installed package keeps a record of temporary installation path\n",
            "* DONE (futile.options)\n",
            "* installing *source* package ‘lambda.r’ ...\n",
            "** package ‘lambda.r’ successfully unpacked and MD5 sums checked\n",
            "** using staged installation\n",
            "** R\n",
            "** byte-compile and prepare package for lazy loading\n",
            "** help\n",
            "*** installing help indices\n",
            "** building package indices\n",
            "** testing if installed package can be loaded from temporary location\n",
            "** testing if installed package can be loaded from final location\n",
            "** testing if installed package keeps a record of temporary installation path\n",
            "* DONE (lambda.r)\n",
            "* installing *source* package ‘futile.logger’ ...\n",
            "** package ‘futile.logger’ successfully unpacked and MD5 sums checked\n",
            "** using staged installation\n",
            "** R\n",
            "** byte-compile and prepare package for lazy loading\n",
            "** help\n",
            "*** installing help indices\n",
            "** building package indices\n",
            "** testing if installed package can be loaded from temporary location\n",
            "** testing if installed package can be loaded from final location\n",
            "** testing if installed package keeps a record of temporary installation path\n",
            "* DONE (futile.logger)\n",
            "* installing *source* package ‘VennDiagram’ ...\n",
            "** package ‘VennDiagram’ successfully unpacked and MD5 sums checked\n",
            "** using staged installation\n",
            "** R\n",
            "** data\n",
            "** byte-compile and prepare package for lazy loading\n",
            "** help\n",
            "*** installing help indices\n",
            "** building package indices\n",
            "** testing if installed package can be loaded from temporary location\n",
            "** testing if installed package can be loaded from final location\n",
            "** testing if installed package keeps a record of temporary installation path\n",
            "* DONE (VennDiagram)\n",
            "\n",
            "The downloaded source packages are in\n",
            "\t‘/tmp/RtmprwQykH/downloaded_packages’\n"
          ]
        }
      ]
    },
    {
      "cell_type": "code",
      "source": [
        "%%R\n",
        "\n",
        "suppressPackageStartupMessages({\n",
        "  library(ggplot2)\n",
        "  library(ggrepel)\n",
        "  library(stringr)\n",
        "  library(dplyr)\n",
        "  library(edgeR)\n",
        "})"
      ],
      "metadata": {
        "id": "Drzt9KppG3y5"
      },
      "execution_count": 9,
      "outputs": []
    },
    {
      "cell_type": "code",
      "source": [
        "%%R\n",
        "suppressPackageStartupMessages(library(DESeq2))"
      ],
      "metadata": {
        "id": "mSPHVF3lE-T8"
      },
      "execution_count": 10,
      "outputs": []
    },
    {
      "cell_type": "code",
      "source": [
        "%%R\n",
        "\n",
        "#матрица каунтов\n",
        "\n",
        "count_matrix <- read.table(\"GSE110021_counts.Aug2015.txt\")\n",
        "count_matrix <- data.frame(D1_cont_1=rowSums(select(count_matrix, starts_with(\"D1.noTGFb.1\"))),\n",
        "                            D1_cont_2=rowSums(select(count_matrix, starts_with(\"D1.noTGFb.2\"))),\n",
        "                            D1_cont_3=rowSums(select(count_matrix, starts_with(\"D1.noTGFb.3\"))),\n",
        "                            D1_tgf_1=rowSums(select(count_matrix, starts_with(\"D1.TGFb.1\"))),\n",
        "                            D1_tgf_2=rowSums(select(count_matrix, starts_with(\"D1.TGFb.2\"))),\n",
        "                            D1_tgf_3=rowSums(select(count_matrix, starts_with(\"D1.TGFb.3\"))),\n",
        "                            D20_cont_1=rowSums(select(count_matrix, starts_with(\"D20.noTGFb.1\"))),\n",
        "                            D20_cont_2=rowSums(select(count_matrix, starts_with(\"D20.noTGFb.2\"))),\n",
        "                            D20_cont_3=rowSums(select(count_matrix, starts_with(\"D20.noTGFb.3\"))),\n",
        "                            D20_tgf_1=rowSums(select(count_matrix, starts_with(\"D20.TGFb.1\"))),\n",
        "                            D20_tgf_2=rowSums(select(count_matrix, starts_with(\"D20.TGFb.2\"))),\n",
        "                            D20_tgf_3=rowSums(select(count_matrix, starts_with(\"D20.TGFb.3\"))))"
      ],
      "metadata": {
        "collapsed": true,
        "id": "pVu7zEy5FtJ9"
      },
      "execution_count": 11,
      "outputs": []
    },
    {
      "cell_type": "code",
      "source": [
        "%%R\n",
        "\n",
        "#скачиваем информацию о белках\n",
        "\n",
        "gene_anno <- read.table(\"biomart_hg19_ensembl75.tsv\", sep = '\\t', header = TRUE)"
      ],
      "metadata": {
        "id": "-IwWrRVhGq35"
      },
      "execution_count": 12,
      "outputs": []
    },
    {
      "cell_type": "code",
      "source": [
        "%%R\n",
        "\n",
        "#разложение PCA\n",
        "# scale the data\n",
        "counts_scaled <- t(scale(count_matrix))\n",
        "\n",
        "# run PCA\n",
        "pca_result <- prcomp(counts_scaled, center = TRUE, scale. = TRUE)\n",
        "variance_explained <- pca_result$sdev^2 / sum(pca_result$sdev^2) * 100\n",
        "\n",
        "# extract first two PCs\n",
        "scores_df <- data.frame(PC1 = pca_result$x[,1], PC2 = pca_result$x[,2])\n",
        "scores_df$Sample = row.names(scores_df)\n",
        "groups <- str_remove(scores_df$Sample, \"_[0-9]+$\")\n",
        "scores_df$group = groups\n",
        "\n",
        "# plot first two PCs\n",
        "ggplot(scores_df, aes(x = PC1, y = PC2, label = Sample, color = group)) +\n",
        "  geom_point(size=2) +\n",
        "  geom_text_repel(size=5,\n",
        "                  box.padding = 0.5,\n",
        "                  point.padding = 0.5,\n",
        "                  max.overlaps = Inf)+\n",
        "  theme_minimal()+\n",
        "  theme(legend.position = \"none\")+\n",
        "  labs(x=paste(\"PC1 (\", sprintf(\"%.1f\", variance_explained[1]), \"%)\", sep=\"\"),,\n",
        "       y=paste(\"PC2 (\", sprintf(\"%.1f\", variance_explained[2]), \"%)\", sep=\"\"),)"
      ],
      "metadata": {
        "colab": {
          "base_uri": "https://localhost:8080/",
          "height": 497
        },
        "id": "oYeaLHV_GtNC",
        "outputId": "43540741-d491-46b6-9bd1-8539162cb564"
      },
      "execution_count": 13,
      "outputs": [
        {
          "output_type": "display_data",
          "data": {
            "image/png": "[encoded data removed]"
          },
          "metadata": {}
        }
      ]
    },
    {
      "cell_type": "code",
      "source": [
        "%%R\n",
        "\n",
        "#строим таблицу meta data\n",
        "\n",
        "meta_data <- data.frame(colnames(count_matrix), groups)"
      ],
      "metadata": {
        "id": "62r3hyo6G-L4"
      },
      "execution_count": 14,
      "outputs": []
    },
    {
      "cell_type": "code",
      "source": [
        "#создадим датасет DEseq2 на основе матрицы каунтов и метаинформации\n",
        "%%R\n",
        "\n",
        "dataset <- DESeqDataSetFromMatrix(countData = count_matrix,           #данные\n",
        "                                  colData = meta_data,                #свойства колонки\n",
        "                                  design= ~ groups                    #здесь столбец из meta_data, по которому будем группировать при анализе\n",
        "                                  )"
      ],
      "metadata": {
        "colab": {
          "base_uri": "https://localhost:8080/"
        },
        "id": "mr-UgKmbHAeQ",
        "outputId": "e5caf325-b793-4670-fcd6-4fddeff46e35"
      },
      "execution_count": 15,
      "outputs": [
        {
          "output_type": "stream",
          "name": "stderr",
          "text": [
            "WARNING:rpy2.rinterface_lib.callbacks:R[write to console]: converting counts to integer mode\n",
            "\n"
          ]
        }
      ]
    },
    {
      "cell_type": "code",
      "source": [
        "%%R\n",
        "\n",
        "dataset"
      ],
      "metadata": {
        "colab": {
          "base_uri": "https://localhost:8080/"
        },
        "id": "RLzCpOZXHJVm",
        "outputId": "262233e4-46e1-46f5-acec-830d1535f644"
      },
      "execution_count": 16,
      "outputs": [
        {
          "output_type": "stream",
          "name": "stdout",
          "text": [
            "class: DESeqDataSet \n",
            "dim: 25702 12 \n",
            "metadata(1): version\n",
            "assays(1): counts\n",
            "rownames(25702): 653635 100422834 ... 114760 100506511\n",
            "rowData names(0):\n",
            "colnames(12): D1_cont_1 D1_cont_2 ... D20_tgf_2 D20_tgf_3\n",
            "colData names(2): colnames.count_matrix. groups\n"
          ]
        }
      ]
    },
    {
      "cell_type": "code",
      "source": [
        "%%R\n",
        "#фильтрация редких белков, может, тут ее и не нужно делать\n",
        "smallestGroupSize <- 3\n",
        "keep <- rowSums(counts(dataset) >= 10) >= smallestGroupSize\n",
        "dataset <- dataset[keep,]"
      ],
      "metadata": {
        "id": "_fSw-wRNHK4b"
      },
      "execution_count": 17,
      "outputs": []
    },
    {
      "cell_type": "code",
      "source": [
        "%%R\n",
        "#запускаем DESeq2 анализ!\n",
        "dataset2 <- DESeq(dataset)"
      ],
      "metadata": {
        "colab": {
          "base_uri": "https://localhost:8080/"
        },
        "id": "8ZjDaCgTHME7",
        "outputId": "d06bff88-2690-4d6c-f2f2-8e2bc4d1196b"
      },
      "execution_count": 18,
      "outputs": [
        {
          "output_type": "stream",
          "name": "stderr",
          "text": [
            "WARNING:rpy2.rinterface_lib.callbacks:R[write to console]: estimating size factors\n",
            "\n",
            "WARNING:rpy2.rinterface_lib.callbacks:R[write to console]: estimating dispersions\n",
            "\n",
            "WARNING:rpy2.rinterface_lib.callbacks:R[write to console]: gene-wise dispersion estimates\n",
            "\n",
            "WARNING:rpy2.rinterface_lib.callbacks:R[write to console]: mean-dispersion relationship\n",
            "\n",
            "WARNING:rpy2.rinterface_lib.callbacks:R[write to console]: final dispersion estimates\n",
            "\n",
            "WARNING:rpy2.rinterface_lib.callbacks:R[write to console]: fitting model and testing\n",
            "\n"
          ]
        }
      ]
    },
    {
      "cell_type": "code",
      "source": [
        "%%R\n",
        "#результаты получаем для разных групп, нужные группы указаны вот тут внизу\n",
        "result_D1_cont_VS_tgf <- results(dataset2, contrast=c(\"groups\",\"D1_cont\",\"D1_tgf\"))\n",
        "result_D20_cont_VS_tgf <- results(dataset2, contrast=c(\"groups\", \"D20_cont\", \"D20_tgf\"))\n",
        "result_Cont_D1_VS_D20 <- results(dataset2, contrast=c(\"groups\", \"D1_cont\", \"D20_cont\"))\n",
        "result_TGF_D1_VS_D20 <- results(dataset2, contrast=c(\"groups\", \"D1_tgf\", \"D20_tgf\"))"
      ],
      "metadata": {
        "id": "i3HIzxnBHPkE"
      },
      "execution_count": 19,
      "outputs": []
    },
    {
      "cell_type": "code",
      "source": [
        "%%R\n",
        "#строим диаграмму эйлера венна аналогично тому, как мы это делали на семинаре\n",
        "de_genes_cont_20vs1 <- row.names(subset(result_Cont_D1_VS_D20, padj < 0.05 & log2FoldChange > 1))\n",
        "de_genes_tgf_20vs1 <- row.names(subset(result_TGF_D1_VS_D20, padj < 0.05 & log2FoldChange > 1))\n",
        "de_genes_d1_tgf <- row.names(subset(result_D1_cont_VS_tgf, padj < 0.05 & log2FoldChange > 1))\n",
        "de_genes_d20_tgf <- row.names(subset(result_D20_cont_VS_tgf, padj < 0.05 & log2FoldChange > 1))\n",
        "\n",
        "# Use VennDiagram package to plot the Venn diagram\n",
        "library(VennDiagram)\n",
        "venn.plot <- venn.diagram(\n",
        "  x = list(\n",
        "    Cont_20vs1 = de_genes_cont_20vs1,\n",
        "    TGF_20vs1 = de_genes_tgf_20vs1,\n",
        "    D1_TGF = de_genes_d1_tgf,\n",
        "    D20_TGF = de_genes_d20_tgf\n",
        "  ),\n",
        "  category.names = c(\"Cont, d20 vs d1\", \"TGF, d20 vs d1\", \"D1, TGF vs Cont\", \"D20, TGF vs Cont\"),\n",
        "  filename = NULL\n",
        ")\n",
        "grid.draw(venn.plot)"
      ],
      "metadata": {
        "colab": {
          "base_uri": "https://localhost:8080/",
          "height": 497
        },
        "id": "XKvdG8GfHSzO",
        "outputId": "c9a1a990-cffd-4039-becd-eefe0e6f7e96"
      },
      "execution_count": 22,
      "outputs": [
        {
          "output_type": "display_data",
          "data": {
            "image/png": "[encoded data removed]"
          },
          "metadata": {}
        }
      ]
    },
    {
      "cell_type": "code",
      "source": [
        "%%R\n",
        "\n",
        "result_TGF_D1_VS_D20"
      ],
      "metadata": {
        "colab": {
          "base_uri": "https://localhost:8080/"
        },
        "id": "2EBMKnIVHdG6",
        "outputId": "f107c821-1e0f-4bd2-8dcb-9f122a1ca2dc"
      },
      "execution_count": 21,
      "outputs": [
        {
          "output_type": "stream",
          "name": "stdout",
          "text": [
            "log2 fold change (MLE): groups D1_tgf vs D20_tgf \n",
            "Wald test p-value: groups D1_tgf vs D20_tgf \n",
            "DataFrame with 14049 rows and 6 columns\n",
            "           baseMean log2FoldChange     lfcSE      stat      pvalue        padj\n",
            "          <numeric>      <numeric> <numeric> <numeric>   <numeric>   <numeric>\n",
            "653635     47.17915     -0.1688958  0.255685 -0.660561   0.5088939    0.635925\n",
            "100131754  12.59066      0.8406284  0.503384  1.669956   0.0949281    0.176336\n",
            "100133331  17.50954     -0.7490400  0.421578 -1.776755   0.0756085    0.147122\n",
            "79854       8.69013     -0.5654981  0.645194 -0.876477   0.3807706    0.516183\n",
            "643837     48.23897     -0.0488766  0.262441 -0.186238   0.8522582    0.904546\n",
            "...             ...            ...       ...       ...         ...         ...\n",
            "7411      878.69331      0.4377133  0.103328  4.236146 2.27389e-05 1.35459e-04\n",
            "116442     17.99814     -3.8888975  0.574801 -6.765642 1.32719e-11 2.76604e-10\n",
            "1193       35.57454     -1.5423214  0.331599 -4.651163 3.30069e-06 2.38257e-05\n",
            "55217     120.84498      0.0710352  0.167844  0.423221 6.72134e-01 7.73827e-01\n",
            "6845        8.75188      1.6801748  1.134266  1.481288 1.38530e-01 2.38267e-01\n"
          ]
        }
      ]
    }
  ]
}